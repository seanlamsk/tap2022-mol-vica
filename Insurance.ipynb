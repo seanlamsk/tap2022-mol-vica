{
 "cells": [
  {
   "cell_type": "code",
   "execution_count": 1,
   "id": "c82ab731",
   "metadata": {},
   "outputs": [],
   "source": [
    "import pandas as pd\n",
    "import numpy as np\n",
    "\n",
    "import seaborn as sns\n",
    "import matplotlib.pyplot as plt\n",
    "\n",
    "from IPython.display import display, Javascript, Markdown as md"
   ]
  },
  {
   "cell_type": "markdown",
   "id": "a27c1657",
   "metadata": {},
   "source": [
    "# Import & Clean Dataset"
   ]
  },
  {
   "cell_type": "code",
   "execution_count": 2,
   "id": "d7bb508c",
   "metadata": {},
   "outputs": [],
   "source": [
    "df = pd.read_csv('insurance_data.csv',delimiter=';',decimal=',')"
   ]
  },
  {
   "cell_type": "code",
   "execution_count": 3,
   "id": "2f1498fb",
   "metadata": {},
   "outputs": [
    {
     "data": {
      "text/html": [
       "<div>\n",
       "<style scoped>\n",
       "    .dataframe tbody tr th:only-of-type {\n",
       "        vertical-align: middle;\n",
       "    }\n",
       "\n",
       "    .dataframe tbody tr th {\n",
       "        vertical-align: top;\n",
       "    }\n",
       "\n",
       "    .dataframe thead th {\n",
       "        text-align: right;\n",
       "    }\n",
       "</style>\n",
       "<table border=\"1\" class=\"dataframe\">\n",
       "  <thead>\n",
       "    <tr style=\"text-align: right;\">\n",
       "      <th></th>\n",
       "      <th>insuree#</th>\n",
       "      <th>gender</th>\n",
       "      <th>is45OrOlder</th>\n",
       "      <th>isMarried</th>\n",
       "      <th>hasKids</th>\n",
       "      <th>insuredMonths</th>\n",
       "      <th>termLifeInsurance</th>\n",
       "      <th>multipleTermLifePolicies</th>\n",
       "      <th>healthInsurance</th>\n",
       "      <th>healthRiders</th>\n",
       "      <th>premiumFrequency</th>\n",
       "      <th>eStatements</th>\n",
       "      <th>monthlyPremium</th>\n",
       "      <th>totalPremium</th>\n",
       "      <th>renewal</th>\n",
       "    </tr>\n",
       "  </thead>\n",
       "  <tbody>\n",
       "    <tr>\n",
       "      <th>0</th>\n",
       "      <td>1</td>\n",
       "      <td>F</td>\n",
       "      <td>0.0</td>\n",
       "      <td>Yes</td>\n",
       "      <td>Yes</td>\n",
       "      <td>23</td>\n",
       "      <td>Yes</td>\n",
       "      <td>No</td>\n",
       "      <td>No</td>\n",
       "      <td>NaN</td>\n",
       "      <td>12.0</td>\n",
       "      <td>Yes</td>\n",
       "      <td>19.65</td>\n",
       "      <td>451,55</td>\n",
       "      <td>Y</td>\n",
       "    </tr>\n",
       "    <tr>\n",
       "      <th>1</th>\n",
       "      <td>2</td>\n",
       "      <td>F</td>\n",
       "      <td>1.0</td>\n",
       "      <td>No</td>\n",
       "      <td>No</td>\n",
       "      <td>42</td>\n",
       "      <td>Yes</td>\n",
       "      <td>Yes</td>\n",
       "      <td>Class A</td>\n",
       "      <td>3</td>\n",
       "      <td>1.0</td>\n",
       "      <td>Yes</td>\n",
       "      <td>84.65</td>\n",
       "      <td>3541,35</td>\n",
       "      <td>N</td>\n",
       "    </tr>\n",
       "    <tr>\n",
       "      <th>2</th>\n",
       "      <td>3</td>\n",
       "      <td>F</td>\n",
       "      <td>0.0</td>\n",
       "      <td>Yes</td>\n",
       "      <td>No</td>\n",
       "      <td>72</td>\n",
       "      <td>Yes</td>\n",
       "      <td>No</td>\n",
       "      <td>No</td>\n",
       "      <td>NaN</td>\n",
       "      <td>12.0</td>\n",
       "      <td>No</td>\n",
       "      <td>19.40</td>\n",
       "      <td>1496,45</td>\n",
       "      <td>Y</td>\n",
       "    </tr>\n",
       "    <tr>\n",
       "      <th>3</th>\n",
       "      <td>4</td>\n",
       "      <td>F</td>\n",
       "      <td>0.0</td>\n",
       "      <td>Yes</td>\n",
       "      <td>Yes</td>\n",
       "      <td>13</td>\n",
       "      <td>Yes</td>\n",
       "      <td>No</td>\n",
       "      <td>No</td>\n",
       "      <td>NaN</td>\n",
       "      <td>12.0</td>\n",
       "      <td>No</td>\n",
       "      <td>19.55</td>\n",
       "      <td>265,3</td>\n",
       "      <td>Y</td>\n",
       "    </tr>\n",
       "    <tr>\n",
       "      <th>4</th>\n",
       "      <td>5</td>\n",
       "      <td>F</td>\n",
       "      <td>0.0</td>\n",
       "      <td>No</td>\n",
       "      <td>No</td>\n",
       "      <td>37</td>\n",
       "      <td>Yes</td>\n",
       "      <td>Yes</td>\n",
       "      <td>Class A</td>\n",
       "      <td>3,4</td>\n",
       "      <td>1.0</td>\n",
       "      <td>No</td>\n",
       "      <td>100.30</td>\n",
       "      <td>3541,4</td>\n",
       "      <td>Y</td>\n",
       "    </tr>\n",
       "  </tbody>\n",
       "</table>\n",
       "</div>"
      ],
      "text/plain": [
       "   insuree# gender is45OrOlder isMarried hasKids  insuredMonths  \\\n",
       "0         1      F         0.0       Yes     Yes             23   \n",
       "1         2      F         1.0        No      No             42   \n",
       "2         3      F         0.0       Yes      No             72   \n",
       "3         4      F         0.0       Yes     Yes             13   \n",
       "4         5      F         0.0        No      No             37   \n",
       "\n",
       "  termLifeInsurance multipleTermLifePolicies healthInsurance healthRiders  \\\n",
       "0               Yes                       No              No          NaN   \n",
       "1               Yes                      Yes         Class A            3   \n",
       "2               Yes                       No              No          NaN   \n",
       "3               Yes                       No              No          NaN   \n",
       "4               Yes                      Yes         Class A          3,4   \n",
       "\n",
       "   premiumFrequency eStatements  monthlyPremium totalPremium renewal  \n",
       "0              12.0         Yes           19.65       451,55       Y  \n",
       "1               1.0         Yes           84.65      3541,35       N  \n",
       "2              12.0          No           19.40      1496,45       Y  \n",
       "3              12.0          No           19.55        265,3       Y  \n",
       "4               1.0          No          100.30       3541,4       Y  "
      ]
     },
     "execution_count": 3,
     "metadata": {},
     "output_type": "execute_result"
    }
   ],
   "source": [
    "df.head()"
   ]
  },
  {
   "cell_type": "code",
   "execution_count": 4,
   "id": "f89efa95",
   "metadata": {},
   "outputs": [
    {
     "data": {
      "text/plain": [
       "insuree#                       0\n",
       "gender                       113\n",
       "is45OrOlder                   96\n",
       "isMarried                      0\n",
       "hasKids                        0\n",
       "insuredMonths                  0\n",
       "termLifeInsurance              0\n",
       "multipleTermLifePolicies       0\n",
       "healthInsurance                0\n",
       "healthRiders                1982\n",
       "premiumFrequency             114\n",
       "eStatements                    0\n",
       "monthlyPremium                 0\n",
       "totalPremium                   0\n",
       "renewal                        0\n",
       "dtype: int64"
      ]
     },
     "execution_count": 4,
     "metadata": {},
     "output_type": "execute_result"
    }
   ],
   "source": [
    "#check null values\n",
    "df.isnull().sum()"
   ]
  },
  {
   "cell_type": "code",
   "execution_count": 5,
   "id": "36ad7c41",
   "metadata": {},
   "outputs": [
    {
     "name": "stdout",
     "output_type": "stream",
     "text": [
      "Unique values for column insuree#\n",
      "[   1    2    3 ... 5498 5499 5500] \n",
      "\n",
      "Unique values for column gender\n",
      "['F' 'M' nan] \n",
      "\n",
      "Unique values for column is45OrOlder\n",
      "['0.0' '1.0' nan] \n",
      "\n",
      "Unique values for column isMarried\n",
      "['Yes' 'No'] \n",
      "\n",
      "Unique values for column hasKids\n",
      "['Yes' 'No'] \n",
      "\n",
      "Unique values for column insuredMonths\n",
      "[ 23  42  72  13  37   3  24  31   1  57   6   7  65  40  18  15   2   4\n",
      "  69   0  59  16  66  27  29  11  61  39  41  62  70  56  30  22  71  54\n",
      "  20  26  55  51   5  58  32 170  12  67  14  43  33  60  25   9  45  21\n",
      "  19  36  44  34   8  53  52  46  17  50  63  10  35  68  38  49  64  48\n",
      " 130 410  47  28 670 720 610 180 550 160 430 340 710 520 230 690 220 420\n",
      " 460 700 240 620  80 600 320 260 470] \n",
      "\n",
      "Unique values for column termLifeInsurance\n",
      "['Yes' 'No'] \n",
      "\n",
      "Unique values for column multipleTermLifePolicies\n",
      "['No' 'Yes' 'no term life policy taken' 'term life policy not taken'] \n",
      "\n",
      "Unique values for column healthInsurance\n",
      "['No' 'Class A' 'Class B'] \n",
      "\n",
      "Unique values for column healthRiders\n",
      "[nan '3' '3,4' '2' '1' '2,3,4' '1,2,3,4' '2,4' '1,2,4' '1,4' '1,2' '1,2,3'\n",
      " '1,3,4' '1,3' '4' '2,3'] \n",
      "\n",
      "Unique values for column premiumFrequency\n",
      "[12.  1.  3. nan] \n",
      "\n",
      "Unique values for column eStatements\n",
      "['Yes' 'No'] \n",
      "\n",
      "Unique values for column monthlyPremium\n",
      "[ 19.65  84.65  19.4  ... 112.25  83.6   73.5 ] \n",
      "\n",
      "Unique values for column totalPremium\n",
      "['451,55' '3541,35' '1496,45' ... '4557,5' '1090,6' '393,15'] \n",
      "\n",
      "Unique values for column renewal\n",
      "['Y' 'N'] \n",
      "\n"
     ]
    }
   ],
   "source": [
    "# Check unique values for each column\n",
    "for c in df.columns:\n",
    "    print(f\"Unique values for column {c}\")\n",
    "    print(df[c].unique(),'\\n')"
   ]
  },
  {
   "cell_type": "markdown",
   "id": "15ebbb1c",
   "metadata": {},
   "source": [
    "## Data cleaning"
   ]
  },
  {
   "cell_type": "code",
   "execution_count": 6,
   "id": "3666bb9a",
   "metadata": {},
   "outputs": [],
   "source": [
    "# make copy of dataframe\n",
    "clean_df = df.copy()"
   ]
  },
  {
   "cell_type": "code",
   "execution_count": 7,
   "id": "e6745dae",
   "metadata": {},
   "outputs": [
    {
     "data": {
      "text/plain": [
       "array(['No', 'Yes'], dtype=object)"
      ]
     },
     "execution_count": 7,
     "metadata": {},
     "output_type": "execute_result"
    }
   ],
   "source": [
    "# Remap free text values to No\n",
    "free_text_life_policies = {'no term life policy taken','term life policy not taken'}\n",
    "clean_df['multipleTermLifePolicies'] = clean_df['multipleTermLifePolicies'].apply(lambda x: 'No' if x in free_text_life_policies else x)\n",
    "\n",
    "clean_df['multipleTermLifePolicies'].unique()"
   ]
  },
  {
   "cell_type": "code",
   "execution_count": 8,
   "id": "ee79b0a9",
   "metadata": {},
   "outputs": [],
   "source": [
    "#Convert comma to decimal for dollar figure columns\n",
    "def clean_totalPremium(x):\n",
    "    if x == np.nan or len(x.strip()) == 0:\n",
    "        return np.nan\n",
    "    else:\n",
    "        return float(x.replace(',', '.'))\n",
    "\n",
    "clean_df['totalPremium'] = clean_df['totalPremium'].apply(clean_totalPremium)"
   ]
  },
  {
   "cell_type": "code",
   "execution_count": 7,
   "id": "61807aec",
   "metadata": {},
   "outputs": [],
   "source": [
    "#map boolean columns\n",
    "free_text_yesno_map = {'Yes':True,'No':False,np.nan:np.nan}\n",
    "bool_map = {\n",
    "    'is45OrOlder':{'1.0':True,'0.0':False,np.nan:np.nan},\n",
    "    'isMarried':free_text_yesno_map,\n",
    "    'hasKids':free_text_yesno_map,\n",
    "    'termLifeInsurance':free_text_yesno_map,\n",
    "    'multipleTermLifePolicies':free_text_yesno_map,\n",
    "    'eStatements':free_text_yesno_map,\n",
    "    'renewal':{'Y':True,'N':False,np.nan:np.nan}\n",
    "}\n",
    "\n",
    "for col,d in bool_map.items():\n",
    "    clean_df[col] = clean_df[col].map(d).astype(bool)"
   ]
  },
  {
   "cell_type": "code",
   "execution_count": 9,
   "id": "053a3ccf",
   "metadata": {},
   "outputs": [],
   "source": [
    "#convert categorical columns\n",
    "clean_df['gender'] = clean_df['gender'].astype('category')\n",
    "clean_df['healthInsurance'] = clean_df['healthInsurance'].astype('category')"
   ]
  },
  {
   "cell_type": "code",
   "execution_count": 10,
   "id": "0272d6d1",
   "metadata": {},
   "outputs": [],
   "source": [
    "#convert healthrider column to tuple \n",
    "import ast\n",
    "def convert_to_tuple(x):\n",
    "    if pd.isnull(x):\n",
    "        return ()\n",
    "    else:\n",
    "        x = ast.literal_eval(x)\n",
    "    if isinstance(x,tuple):\n",
    "        return x\n",
    "    else:\n",
    "        return (x,)\n",
    "clean_df['healthRiders'] = clean_df['healthRiders'].apply(convert_to_tuple)"
   ]
  },
  {
   "cell_type": "code",
   "execution_count": null,
   "id": "79f5ebff",
   "metadata": {},
   "outputs": [],
   "source": [
    "#create boolean columns for each of the 4 riders\n",
    "\n",
    "max_healthRiders = 4 #inferred from unique values\n",
    "\n",
    "new_healthRiders_columns = [f\"healthRider_{i}\" for i in range(1,max_healthRiders+1)]\n",
    "\n",
    "def expand_healthRiders_list(x):\n",
    "    riders = x['healthRiders']\n",
    "    result = []\n",
    "    \n",
    "    for i in range(1,max_healthRiders+1):\n",
    "        result.append(i in riders)\n",
    "    return result\n",
    "\n",
    "clean_df[new_healthRiders_columns] = clean_df.apply(expand_healthRiders_list, result_type='expand',axis=1)"
   ]
  },
  {
   "cell_type": "code",
   "execution_count": 12,
   "id": "609b0b5f",
   "metadata": {},
   "outputs": [
    {
     "name": "stdout",
     "output_type": "stream",
     "text": [
      "<class 'pandas.core.frame.DataFrame'>\n",
      "RangeIndex: 5500 entries, 0 to 5499\n",
      "Data columns (total 15 columns):\n",
      " #   Column                    Non-Null Count  Dtype   \n",
      "---  ------                    --------------  -----   \n",
      " 0   insuree#                  5500 non-null   int64   \n",
      " 1   gender                    5387 non-null   category\n",
      " 2   is45OrOlder               5404 non-null   object  \n",
      " 3   isMarried                 5500 non-null   object  \n",
      " 4   hasKids                   5500 non-null   object  \n",
      " 5   insuredMonths             5500 non-null   int64   \n",
      " 6   termLifeInsurance         5500 non-null   object  \n",
      " 7   multipleTermLifePolicies  5500 non-null   object  \n",
      " 8   healthInsurance           5500 non-null   category\n",
      " 9   healthRiders              5500 non-null   object  \n",
      " 10  premiumFrequency          5386 non-null   float64 \n",
      " 11  eStatements               5500 non-null   object  \n",
      " 12  monthlyPremium            5500 non-null   float64 \n",
      " 13  totalPremium              5491 non-null   float64 \n",
      " 14  renewal                   5500 non-null   object  \n",
      "dtypes: category(2), float64(3), int64(2), object(8)\n",
      "memory usage: 569.7+ KB\n",
      "None\n"
     ]
    },
    {
     "data": {
      "text/html": [
       "<div>\n",
       "<style scoped>\n",
       "    .dataframe tbody tr th:only-of-type {\n",
       "        vertical-align: middle;\n",
       "    }\n",
       "\n",
       "    .dataframe tbody tr th {\n",
       "        vertical-align: top;\n",
       "    }\n",
       "\n",
       "    .dataframe thead th {\n",
       "        text-align: right;\n",
       "    }\n",
       "</style>\n",
       "<table border=\"1\" class=\"dataframe\">\n",
       "  <thead>\n",
       "    <tr style=\"text-align: right;\">\n",
       "      <th></th>\n",
       "      <th>insuree#</th>\n",
       "      <th>gender</th>\n",
       "      <th>is45OrOlder</th>\n",
       "      <th>isMarried</th>\n",
       "      <th>hasKids</th>\n",
       "      <th>insuredMonths</th>\n",
       "      <th>termLifeInsurance</th>\n",
       "      <th>multipleTermLifePolicies</th>\n",
       "      <th>healthInsurance</th>\n",
       "      <th>healthRiders</th>\n",
       "      <th>premiumFrequency</th>\n",
       "      <th>eStatements</th>\n",
       "      <th>monthlyPremium</th>\n",
       "      <th>totalPremium</th>\n",
       "      <th>renewal</th>\n",
       "    </tr>\n",
       "  </thead>\n",
       "  <tbody>\n",
       "    <tr>\n",
       "      <th>0</th>\n",
       "      <td>1</td>\n",
       "      <td>F</td>\n",
       "      <td>0.0</td>\n",
       "      <td>Yes</td>\n",
       "      <td>Yes</td>\n",
       "      <td>23</td>\n",
       "      <td>Yes</td>\n",
       "      <td>No</td>\n",
       "      <td>No</td>\n",
       "      <td>()</td>\n",
       "      <td>12.0</td>\n",
       "      <td>Yes</td>\n",
       "      <td>19.65</td>\n",
       "      <td>451.55</td>\n",
       "      <td>Y</td>\n",
       "    </tr>\n",
       "    <tr>\n",
       "      <th>1</th>\n",
       "      <td>2</td>\n",
       "      <td>F</td>\n",
       "      <td>1.0</td>\n",
       "      <td>No</td>\n",
       "      <td>No</td>\n",
       "      <td>42</td>\n",
       "      <td>Yes</td>\n",
       "      <td>Yes</td>\n",
       "      <td>Class A</td>\n",
       "      <td>(3,)</td>\n",
       "      <td>1.0</td>\n",
       "      <td>Yes</td>\n",
       "      <td>84.65</td>\n",
       "      <td>3541.35</td>\n",
       "      <td>N</td>\n",
       "    </tr>\n",
       "    <tr>\n",
       "      <th>2</th>\n",
       "      <td>3</td>\n",
       "      <td>F</td>\n",
       "      <td>0.0</td>\n",
       "      <td>Yes</td>\n",
       "      <td>No</td>\n",
       "      <td>72</td>\n",
       "      <td>Yes</td>\n",
       "      <td>No</td>\n",
       "      <td>No</td>\n",
       "      <td>()</td>\n",
       "      <td>12.0</td>\n",
       "      <td>No</td>\n",
       "      <td>19.40</td>\n",
       "      <td>1496.45</td>\n",
       "      <td>Y</td>\n",
       "    </tr>\n",
       "    <tr>\n",
       "      <th>3</th>\n",
       "      <td>4</td>\n",
       "      <td>F</td>\n",
       "      <td>0.0</td>\n",
       "      <td>Yes</td>\n",
       "      <td>Yes</td>\n",
       "      <td>13</td>\n",
       "      <td>Yes</td>\n",
       "      <td>No</td>\n",
       "      <td>No</td>\n",
       "      <td>()</td>\n",
       "      <td>12.0</td>\n",
       "      <td>No</td>\n",
       "      <td>19.55</td>\n",
       "      <td>265.30</td>\n",
       "      <td>Y</td>\n",
       "    </tr>\n",
       "    <tr>\n",
       "      <th>4</th>\n",
       "      <td>5</td>\n",
       "      <td>F</td>\n",
       "      <td>0.0</td>\n",
       "      <td>No</td>\n",
       "      <td>No</td>\n",
       "      <td>37</td>\n",
       "      <td>Yes</td>\n",
       "      <td>Yes</td>\n",
       "      <td>Class A</td>\n",
       "      <td>(3, 4)</td>\n",
       "      <td>1.0</td>\n",
       "      <td>No</td>\n",
       "      <td>100.30</td>\n",
       "      <td>3541.40</td>\n",
       "      <td>Y</td>\n",
       "    </tr>\n",
       "  </tbody>\n",
       "</table>\n",
       "</div>"
      ],
      "text/plain": [
       "   insuree# gender is45OrOlder isMarried hasKids  insuredMonths  \\\n",
       "0         1      F         0.0       Yes     Yes             23   \n",
       "1         2      F         1.0        No      No             42   \n",
       "2         3      F         0.0       Yes      No             72   \n",
       "3         4      F         0.0       Yes     Yes             13   \n",
       "4         5      F         0.0        No      No             37   \n",
       "\n",
       "  termLifeInsurance multipleTermLifePolicies healthInsurance healthRiders  \\\n",
       "0               Yes                       No              No           ()   \n",
       "1               Yes                      Yes         Class A         (3,)   \n",
       "2               Yes                       No              No           ()   \n",
       "3               Yes                       No              No           ()   \n",
       "4               Yes                      Yes         Class A       (3, 4)   \n",
       "\n",
       "   premiumFrequency eStatements  monthlyPremium  totalPremium renewal  \n",
       "0              12.0         Yes           19.65        451.55       Y  \n",
       "1               1.0         Yes           84.65       3541.35       N  \n",
       "2              12.0          No           19.40       1496.45       Y  \n",
       "3              12.0          No           19.55        265.30       Y  \n",
       "4               1.0          No          100.30       3541.40       Y  "
      ]
     },
     "execution_count": 12,
     "metadata": {},
     "output_type": "execute_result"
    }
   ],
   "source": [
    "print(clean_df.info())\n",
    "clean_df.head()"
   ]
  },
  {
   "cell_type": "markdown",
   "id": "8ffb9161",
   "metadata": {},
   "source": [
    "# EDA"
   ]
  },
  {
   "cell_type": "markdown",
   "id": "5000a5be",
   "metadata": {},
   "source": [
    "### (Utility functions)"
   ]
  },
  {
   "cell_type": "code",
   "execution_count": 13,
   "id": "7e359894",
   "metadata": {},
   "outputs": [],
   "source": [
    "def create_subplots(n,figsize=(15, 25)):\n",
    "    if n%2 == 0:\n",
    "        fig, axes = plt.subplots(n//2, 2, figsize=figsize)\n",
    "    else:\n",
    "        fig, axes = plt.subplots(n//2+1, 2, figsize=figsize)\n",
    "        i,j = (n-1)//2, 1\n",
    "        fig.delaxes(axes[i,j])\n",
    "\n",
    "    axes_idx = [[i,j] for i in range(4) for j in range(2)]\n",
    "    \n",
    "    return fig, axes, axes_idx"
   ]
  },
  {
   "cell_type": "markdown",
   "id": "ec136363",
   "metadata": {},
   "source": [
    "### Univariate analysis"
   ]
  },
  {
   "cell_type": "code",
   "execution_count": 14,
   "id": "f72d0810",
   "metadata": {},
   "outputs": [
    {
     "data": {
      "image/png": "[encoded data removed]",
      "text/plain": [
       "<Figure size 1152x648 with 6 Axes>"
      ]
     },
     "metadata": {
      "needs_background": "light"
     },
     "output_type": "display_data"
    }
   ],
   "source": [
    "clean_df.hist(figsize=(16,9),bins=30)\n",
    "plt.tight_layout()"
   ]
  },
  {
   "cell_type": "code",
   "execution_count": 15,
   "id": "814661cb",
   "metadata": {},
   "outputs": [
    {
     "data": {
      "image/png": "[encoded data removed]",
      "text/plain": [
       "<Figure size 1152x1152 with 7 Axes>"
      ]
     },
     "metadata": {
      "needs_background": "light"
     },
     "output_type": "display_data"
    }
   ],
   "source": [
    "bool_cols = ['gender','is45OrOlder','isMarried','hasKids','termLifeInsurance','multipleTermLifePolicies','eStatements']\n",
    "n = len(bool_cols)\n",
    "fig,axes,axes_idx = create_subplots(n,figsize=(16,16))\n",
    "display(md(\"\"\"### Categorical & Binary Variable Distributions\n",
    "\n",
    "\"\"\"))\n",
    "for col,ax in list(zip(bool_cols,axes_idx[:n])):\n",
    "    clean_df[col].value_counts().plot(kind='bar',ax=axes[ax[0],ax[1]],title=col)\n"
   ]
  }
 ],
 "metadata": {
  "kernelspec": {
   "display_name": "Python 3.8.7 64-bit",
   "language": "python",
   "name": "python3"
  },
  "language_info": {
   "codemirror_mode": {
    "name": "ipython",
    "version": 3
   },
   "file_extension": ".py",
   "mimetype": "text/x-python",
   "name": "python",
   "nbconvert_exporter": "python",
   "pygments_lexer": "ipython3",
   "version": "3.8.7"
  },
  "vscode": {
   "interpreter": {
    "hash": "0359b4785db930eb8f1ea876bf7ba349bace0e70fea48707a8a08ed9921e0151"
   }
  }
 },
 "nbformat": 4,
 "nbformat_minor": 5
}
